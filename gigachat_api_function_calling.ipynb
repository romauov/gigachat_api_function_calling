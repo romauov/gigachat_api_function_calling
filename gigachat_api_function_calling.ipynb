{
  "nbformat": 4,
  "nbformat_minor": 0,
  "metadata": {
    "colab": {
      "provenance": []
    },
    "kernelspec": {
      "name": "python3",
      "display_name": "Python 3"
    },
    "language_info": {
      "name": "python"
    }
  },
  "cells": [
    {
      "cell_type": "markdown",
      "source": [
        "# Вызов пользовательских функций в API GigaChat через библиотеку requests\n",
        "Для начала работы нужно [получить доступ](https://developers.sber.ru/docs/ru/gigachat/api/integration).\n",
        "## Авторизация\n",
        "Объявим ключи для авторизации"
      ],
      "metadata": {
        "id": "UhxINke4kCa8"
      }
    },
    {
      "cell_type": "code",
      "execution_count": 20,
      "metadata": {
        "id": "kIiH4X-WjHTc"
      },
      "outputs": [],
      "source": [
        "# Используем вкладку \"Секреты\" левой панели Colab для хранения ключей\n",
        "from google.colab import userdata\n",
        "# auth token API GigaChat\n",
        "giga_key = userdata.get('GIGA_CHAT_KEY')\n",
        "# id гугл-таблицы из которой будем получать данные\n",
        "price_id = userdata.get('PRICE_ID')"
      ]
    },
    {
      "cell_type": "markdown",
      "source": [
        "Используем для авторизации auth token.\n",
        "\n",
        "[Документация по авторизации](https://developers.sber.ru/docs/ru/gigachat/api/reference/rest/post-token)"
      ],
      "metadata": {
        "id": "0su5Ut3toDwk"
      }
    },
    {
      "cell_type": "code",
      "source": [
        "import requests\n",
        "import uuid\n",
        "\n",
        "def get_token(auth_token, scope='GIGACHAT_API_CORP'):\n",
        "    \"\"\"\n",
        "      Выполняет POST-запрос к эндпоинту, который выдает токен.\n",
        "\n",
        "      Параметры:\n",
        "      - auth_token (str): токен авторизации, необходимый для запроса.\n",
        "      - область (str): область действия запроса API. По умолчанию — «GIGACHAT_API_PERS».\n",
        "\n",
        "      Возвращает:\n",
        "      - ответ API, где токен и срок его \"годности\".\n",
        "      \"\"\"\n",
        "    # Создадим идентификатор UUID (36 знаков)\n",
        "    rq_uid = str(uuid.uuid4())\n",
        "\n",
        "    # API URL\n",
        "    url = \"https://ngw.devices.sberbank.ru:9443/api/v2/oauth\"\n",
        "\n",
        "    # Заголовки\n",
        "    headers = {\n",
        "        'Content-Type': 'application/x-www-form-urlencoded',\n",
        "        'Accept': 'application/json',\n",
        "        'RqUID': rq_uid,\n",
        "        'Authorization': f'Basic {auth_token}'\n",
        "    }\n",
        "\n",
        "    # Тело запроса\n",
        "    payload = {\n",
        "        'scope': scope\n",
        "    }\n",
        "\n",
        "    try:\n",
        "        # Делаем POST запрос с отключенной SSL верификацией\n",
        "        # (можно скачать сертификаты Минцифры, тогда отключать проверку не надо)\n",
        "        response = requests.post(url, headers=headers, data=payload, verify=False)\n",
        "        return response\n",
        "    except requests.RequestException as e:\n",
        "        print(f\"Ошибка: {str(e)}\")\n",
        "        return -1\n"
      ],
      "metadata": {
        "id": "twVbmbjFoKBY"
      },
      "execution_count": 21,
      "outputs": []
    },
    {
      "cell_type": "markdown",
      "source": [
        "Получаем токен для запросов"
      ],
      "metadata": {
        "id": "BCiYotI2Tk0z"
      }
    },
    {
      "cell_type": "code",
      "source": [
        "response = get_token(giga_key)\n",
        "if response != 1:\n",
        "  print(response.text)\n",
        "  giga_token = response.json()['access_token']"
      ],
      "metadata": {
        "id": "vp8ocSoUsnL5",
        "colab": {
          "base_uri": "https://localhost:8080/"
        },
        "outputId": "6e089f67-a3f0-4292-d51a-beb456fc8ffa"
      },
      "execution_count": 22,
      "outputs": [
        {
          "output_type": "stream",
          "name": "stdout",
          "text": [
            "{\"access_token\":\"eyJjdHkiOiJqd3QiLCJlbmMiOiJBMjU2Q0JDLUhTNTEyIiwiYWxnIjoiUlNBLU9BRVAtMjU2In0.KoFDkEc8qUbgUxzA07rjuHGhbEWgJggB0GxPBCo_9TIdIdRtlpuz8qV-NjQvSDFJi6cpeYJe1bxb089Di7M3-vqiqHU8n0MkJrLBfeucRPkZRxlCMcoaWaD8CdFLM5mGYfi2UWZdRbXzTPAoZpDty97y2qkvUXcj3mwHrDBQyDgLf8qk4OFDGhLy1yEa3UxRFW7SOo-wDT4THlEhKhlfuOZu3utQ1TR4HmnLIlKHiw4ZGRBvTsJzP0U9TL3gehWPsfEeQsR1PRwgeVE4E2M1Iii6wSUTrLrB8NjBa7ZTE41Fe2dCt7buonC3qbDYS8KYQ7a0DLjf_mG3JDuMC9ozgQ.ZaRpgisG72y44uaI7UVFLQ.tWicPgLsoQ4Im8TLuVCUX7H6m7pp5v7vpyjh--mlx4SltTS-wHa-0cTTHbFc81noPrlRTuU3W1ixentFzvd6k_vglsuZzHOT6EuLV_Eqc-f9v3w3LLOXewGviXGuyl1dyF3X8CaWxO4OHM8TTQGDcgUk82q6gAhDf-acHIJ9Vsad8R5qfgLYNIuE_zuHZ-7p2C3SIZc-K38BAMhasT3WUaEHhtT7nHxQu3hi-L_zwolC2bQ0YVOyQWDdd4T6foY-w0-MmQ9kjfbESZQeae5b9CEUEC1IMZAcBiuf-8TYRJWtLHE20Xf7Rf3ixtCGXTNkgJ-yWt26T8R8CW3XB7zzy2bKCqp5t-frnyM_g3K5IFy1ToHt1AX1bIjyluMD6IY8hjWBQIy_xHegHC66FFtZjUXODHy12IVUWGqB4tZgZHqeYZveUxAun7S-MDEEY98BqY5J5gGK1Bxj76_P9aumPMP1l4w9R-SN5TkwCrSyUNnmchIVKsoqeajNLWaSc3FasWf2_WdDS4Uqg3KPgWaXCtIrqezkHYE-okSc2C3arTl1m0lhCqUCJCXKy2K8LxIqbHo_8UDS0cmE4_K18lmodHQOvLtef1MZJYggo8_K0ty48BkzzDYOI5nexj5btMlH0ugi44MFLqJwcjW4gYlYFi9FAw4_FgVtvVIs4Ae2weRFKjWE2clGEPYdA4h-y6MtOAA6g73MW9PJuUSI3LtvEmtt6-UjHRzWx0JBUscxbtE.Z8r8C_wC6WovRj4mp7JQVFEoBfy-TTcta8JwAiRjp7E\",\"expires_at\":1712662400214}\n"
          ]
        },
        {
          "output_type": "stream",
          "name": "stderr",
          "text": [
            "/usr/local/lib/python3.10/dist-packages/urllib3/connectionpool.py:1100: InsecureRequestWarning: Unverified HTTPS request is being made to host 'ngw.devices.sberbank.ru'. Adding certificate verification is strongly advised. See: https://urllib3.readthedocs.io/en/latest/advanced-usage.html#tls-warnings\n",
            "  warnings.warn(\n"
          ]
        }
      ]
    },
    {
      "cell_type": "markdown",
      "source": [
        "Токен действует 30 минут с момента его получения."
      ],
      "metadata": {
        "id": "pe2bip7pTsG8"
      }
    },
    {
      "cell_type": "code",
      "source": [
        "from datetime import datetime\n",
        "\n",
        "# Временная метка в миллисекундах\n",
        "timestamp_ms = response.json()[\"expires_at\"]\n",
        "\n",
        "# Преобразование в секунды\n",
        "timestamp_s = timestamp_ms / 1000\n",
        "\n",
        "# Преобразование в объект datetime\n",
        "date_time = datetime.utcfromtimestamp(timestamp_s)\n",
        "\n",
        "print(date_time.strftime('%Y-%m-%d %H:%M:%S'))"
      ],
      "metadata": {
        "id": "xJpKUuYkSyMv",
        "outputId": "3db3022e-4443-41b4-aca6-f077949442b1",
        "colab": {
          "base_uri": "https://localhost:8080/"
        }
      },
      "execution_count": 4,
      "outputs": [
        {
          "output_type": "stream",
          "name": "stdout",
          "text": [
            "2024-04-09 10:40:06\n"
          ]
        }
      ]
    },
    {
      "cell_type": "markdown",
      "source": [
        "## Получение перечня моделей\n",
        "[Документация](https://developers.sber.ru/docs/ru/gigachat/api/reference/rest/get-models)"
      ],
      "metadata": {
        "id": "5XRkDeSKlT-k"
      }
    },
    {
      "cell_type": "markdown",
      "source": [
        "Вызов функций на данный момент доступен только для модели \"GigaChat-Pro-preview\", убедитесь, что она доступна на вашем тарифе."
      ],
      "metadata": {
        "id": "OxowfI2kT0h0"
      }
    },
    {
      "cell_type": "code",
      "source": [
        "import requests\n",
        "\n",
        "url = \"https://gigachat.devices.sberbank.ru/api/v1/models\"\n",
        "\n",
        "payload={}\n",
        "headers = {\n",
        "  'Accept': 'application/json',\n",
        "  'Authorization': f'Bearer {giga_token}'\n",
        "}\n",
        "\n",
        "response = requests.request(\"GET\", url, headers=headers, data=payload, verify=False)\n",
        "\n",
        "print(response.text)"
      ],
      "metadata": {
        "id": "dYNDZdYcPkzA",
        "colab": {
          "base_uri": "https://localhost:8080/"
        },
        "outputId": "df73ad6e-9c3d-4627-d146-9b2b0b050506"
      },
      "execution_count": 5,
      "outputs": [
        {
          "output_type": "stream",
          "name": "stdout",
          "text": [
            "{\"object\":\"list\",\"data\":[{\"id\":\"GigaChat\",\"object\":\"model\",\"owned_by\":\"salutedevices\"},{\"id\":\"GigaChat-Plus\",\"object\":\"model\",\"owned_by\":\"salutedevices\"},{\"id\":\"GigaChat-Pro\",\"object\":\"model\",\"owned_by\":\"salutedevices\"},{\"id\":\"GigaChat-Pro-preview\",\"object\":\"model\",\"owned_by\":\"salutedevices\"}]}\n"
          ]
        },
        {
          "output_type": "stream",
          "name": "stderr",
          "text": [
            "/usr/local/lib/python3.10/dist-packages/urllib3/connectionpool.py:1100: InsecureRequestWarning: Unverified HTTPS request is being made to host 'gigachat.devices.sberbank.ru'. Adding certificate verification is strongly advised. See: https://urllib3.readthedocs.io/en/latest/advanced-usage.html#tls-warnings\n",
            "  warnings.warn(\n"
          ]
        }
      ]
    },
    {
      "cell_type": "markdown",
      "source": [
        "## Определим наши пользовательские функции"
      ],
      "metadata": {
        "id": "Za2yDvE3G2qz"
      }
    },
    {
      "cell_type": "code",
      "source": [
        "import pandas as pd\n",
        "\n",
        "PRICE_LIST_URL = f'https://docs.google.com/spreadsheets/d/{price_id}/export?gid=0&format=csv'\n",
        "price_list = pd.read_csv(PRICE_LIST_URL)\n",
        "price_list[['вид продукции',\t'цена за 1 кг, рубли РФ']].head()"
      ],
      "metadata": {
        "id": "sCi3mzj6UzB7",
        "outputId": "ed10b2cc-3ad7-4bf7-85de-c414e248476d",
        "colab": {
          "base_uri": "https://localhost:8080/",
          "height": 206
        }
      },
      "execution_count": 6,
      "outputs": [
        {
          "output_type": "execute_result",
          "data": {
            "text/plain": [
              "                    вид продукции цена за 1 кг, рубли РФ\n",
              "0             Тушка индейки самец                    295\n",
              "1    Мясная обрезь грудка индейка                    350\n",
              "2     Мясная обрезь бедро индейка                    350\n",
              "3           Блоки из мяса индейки                    400\n",
              "4  Филе голени индейки без костей                    350"
            ],
            "text/html": [
              "\n",
              "  <div id=\"df-2632cfe3-d2df-45ec-9d36-bc1b206e4416\" class=\"colab-df-container\">\n",
              "    <div>\n",
              "<style scoped>\n",
              "    .dataframe tbody tr th:only-of-type {\n",
              "        vertical-align: middle;\n",
              "    }\n",
              "\n",
              "    .dataframe tbody tr th {\n",
              "        vertical-align: top;\n",
              "    }\n",
              "\n",
              "    .dataframe thead th {\n",
              "        text-align: right;\n",
              "    }\n",
              "</style>\n",
              "<table border=\"1\" class=\"dataframe\">\n",
              "  <thead>\n",
              "    <tr style=\"text-align: right;\">\n",
              "      <th></th>\n",
              "      <th>вид продукции</th>\n",
              "      <th>цена за 1 кг, рубли РФ</th>\n",
              "    </tr>\n",
              "  </thead>\n",
              "  <tbody>\n",
              "    <tr>\n",
              "      <th>0</th>\n",
              "      <td>Тушка индейки самец</td>\n",
              "      <td>295</td>\n",
              "    </tr>\n",
              "    <tr>\n",
              "      <th>1</th>\n",
              "      <td>Мясная обрезь грудка индейка</td>\n",
              "      <td>350</td>\n",
              "    </tr>\n",
              "    <tr>\n",
              "      <th>2</th>\n",
              "      <td>Мясная обрезь бедро индейка</td>\n",
              "      <td>350</td>\n",
              "    </tr>\n",
              "    <tr>\n",
              "      <th>3</th>\n",
              "      <td>Блоки из мяса индейки</td>\n",
              "      <td>400</td>\n",
              "    </tr>\n",
              "    <tr>\n",
              "      <th>4</th>\n",
              "      <td>Филе голени индейки без костей</td>\n",
              "      <td>350</td>\n",
              "    </tr>\n",
              "  </tbody>\n",
              "</table>\n",
              "</div>\n",
              "    <div class=\"colab-df-buttons\">\n",
              "\n",
              "  <div class=\"colab-df-container\">\n",
              "    <button class=\"colab-df-convert\" onclick=\"convertToInteractive('df-2632cfe3-d2df-45ec-9d36-bc1b206e4416')\"\n",
              "            title=\"Convert this dataframe to an interactive table.\"\n",
              "            style=\"display:none;\">\n",
              "\n",
              "  <svg xmlns=\"http://www.w3.org/2000/svg\" height=\"24px\" viewBox=\"0 -960 960 960\">\n",
              "    <path d=\"M120-120v-720h720v720H120Zm60-500h600v-160H180v160Zm220 220h160v-160H400v160Zm0 220h160v-160H400v160ZM180-400h160v-160H180v160Zm440 0h160v-160H620v160ZM180-180h160v-160H180v160Zm440 0h160v-160H620v160Z\"/>\n",
              "  </svg>\n",
              "    </button>\n",
              "\n",
              "  <style>\n",
              "    .colab-df-container {\n",
              "      display:flex;\n",
              "      gap: 12px;\n",
              "    }\n",
              "\n",
              "    .colab-df-convert {\n",
              "      background-color: #E8F0FE;\n",
              "      border: none;\n",
              "      border-radius: 50%;\n",
              "      cursor: pointer;\n",
              "      display: none;\n",
              "      fill: #1967D2;\n",
              "      height: 32px;\n",
              "      padding: 0 0 0 0;\n",
              "      width: 32px;\n",
              "    }\n",
              "\n",
              "    .colab-df-convert:hover {\n",
              "      background-color: #E2EBFA;\n",
              "      box-shadow: 0px 1px 2px rgba(60, 64, 67, 0.3), 0px 1px 3px 1px rgba(60, 64, 67, 0.15);\n",
              "      fill: #174EA6;\n",
              "    }\n",
              "\n",
              "    .colab-df-buttons div {\n",
              "      margin-bottom: 4px;\n",
              "    }\n",
              "\n",
              "    [theme=dark] .colab-df-convert {\n",
              "      background-color: #3B4455;\n",
              "      fill: #D2E3FC;\n",
              "    }\n",
              "\n",
              "    [theme=dark] .colab-df-convert:hover {\n",
              "      background-color: #434B5C;\n",
              "      box-shadow: 0px 1px 3px 1px rgba(0, 0, 0, 0.15);\n",
              "      filter: drop-shadow(0px 1px 2px rgba(0, 0, 0, 0.3));\n",
              "      fill: #FFFFFF;\n",
              "    }\n",
              "  </style>\n",
              "\n",
              "    <script>\n",
              "      const buttonEl =\n",
              "        document.querySelector('#df-2632cfe3-d2df-45ec-9d36-bc1b206e4416 button.colab-df-convert');\n",
              "      buttonEl.style.display =\n",
              "        google.colab.kernel.accessAllowed ? 'block' : 'none';\n",
              "\n",
              "      async function convertToInteractive(key) {\n",
              "        const element = document.querySelector('#df-2632cfe3-d2df-45ec-9d36-bc1b206e4416');\n",
              "        const dataTable =\n",
              "          await google.colab.kernel.invokeFunction('convertToInteractive',\n",
              "                                                    [key], {});\n",
              "        if (!dataTable) return;\n",
              "\n",
              "        const docLinkHtml = 'Like what you see? Visit the ' +\n",
              "          '<a target=\"_blank\" href=https://colab.research.google.com/notebooks/data_table.ipynb>data table notebook</a>'\n",
              "          + ' to learn more about interactive tables.';\n",
              "        element.innerHTML = '';\n",
              "        dataTable['output_type'] = 'display_data';\n",
              "        await google.colab.output.renderOutput(dataTable, element);\n",
              "        const docLink = document.createElement('div');\n",
              "        docLink.innerHTML = docLinkHtml;\n",
              "        element.appendChild(docLink);\n",
              "      }\n",
              "    </script>\n",
              "  </div>\n",
              "\n",
              "\n",
              "<div id=\"df-3669ff52-c475-4d51-acdc-9a0eba657baf\">\n",
              "  <button class=\"colab-df-quickchart\" onclick=\"quickchart('df-3669ff52-c475-4d51-acdc-9a0eba657baf')\"\n",
              "            title=\"Suggest charts\"\n",
              "            style=\"display:none;\">\n",
              "\n",
              "<svg xmlns=\"http://www.w3.org/2000/svg\" height=\"24px\"viewBox=\"0 0 24 24\"\n",
              "     width=\"24px\">\n",
              "    <g>\n",
              "        <path d=\"M19 3H5c-1.1 0-2 .9-2 2v14c0 1.1.9 2 2 2h14c1.1 0 2-.9 2-2V5c0-1.1-.9-2-2-2zM9 17H7v-7h2v7zm4 0h-2V7h2v10zm4 0h-2v-4h2v4z\"/>\n",
              "    </g>\n",
              "</svg>\n",
              "  </button>\n",
              "\n",
              "<style>\n",
              "  .colab-df-quickchart {\n",
              "      --bg-color: #E8F0FE;\n",
              "      --fill-color: #1967D2;\n",
              "      --hover-bg-color: #E2EBFA;\n",
              "      --hover-fill-color: #174EA6;\n",
              "      --disabled-fill-color: #AAA;\n",
              "      --disabled-bg-color: #DDD;\n",
              "  }\n",
              "\n",
              "  [theme=dark] .colab-df-quickchart {\n",
              "      --bg-color: #3B4455;\n",
              "      --fill-color: #D2E3FC;\n",
              "      --hover-bg-color: #434B5C;\n",
              "      --hover-fill-color: #FFFFFF;\n",
              "      --disabled-bg-color: #3B4455;\n",
              "      --disabled-fill-color: #666;\n",
              "  }\n",
              "\n",
              "  .colab-df-quickchart {\n",
              "    background-color: var(--bg-color);\n",
              "    border: none;\n",
              "    border-radius: 50%;\n",
              "    cursor: pointer;\n",
              "    display: none;\n",
              "    fill: var(--fill-color);\n",
              "    height: 32px;\n",
              "    padding: 0;\n",
              "    width: 32px;\n",
              "  }\n",
              "\n",
              "  .colab-df-quickchart:hover {\n",
              "    background-color: var(--hover-bg-color);\n",
              "    box-shadow: 0 1px 2px rgba(60, 64, 67, 0.3), 0 1px 3px 1px rgba(60, 64, 67, 0.15);\n",
              "    fill: var(--button-hover-fill-color);\n",
              "  }\n",
              "\n",
              "  .colab-df-quickchart-complete:disabled,\n",
              "  .colab-df-quickchart-complete:disabled:hover {\n",
              "    background-color: var(--disabled-bg-color);\n",
              "    fill: var(--disabled-fill-color);\n",
              "    box-shadow: none;\n",
              "  }\n",
              "\n",
              "  .colab-df-spinner {\n",
              "    border: 2px solid var(--fill-color);\n",
              "    border-color: transparent;\n",
              "    border-bottom-color: var(--fill-color);\n",
              "    animation:\n",
              "      spin 1s steps(1) infinite;\n",
              "  }\n",
              "\n",
              "  @keyframes spin {\n",
              "    0% {\n",
              "      border-color: transparent;\n",
              "      border-bottom-color: var(--fill-color);\n",
              "      border-left-color: var(--fill-color);\n",
              "    }\n",
              "    20% {\n",
              "      border-color: transparent;\n",
              "      border-left-color: var(--fill-color);\n",
              "      border-top-color: var(--fill-color);\n",
              "    }\n",
              "    30% {\n",
              "      border-color: transparent;\n",
              "      border-left-color: var(--fill-color);\n",
              "      border-top-color: var(--fill-color);\n",
              "      border-right-color: var(--fill-color);\n",
              "    }\n",
              "    40% {\n",
              "      border-color: transparent;\n",
              "      border-right-color: var(--fill-color);\n",
              "      border-top-color: var(--fill-color);\n",
              "    }\n",
              "    60% {\n",
              "      border-color: transparent;\n",
              "      border-right-color: var(--fill-color);\n",
              "    }\n",
              "    80% {\n",
              "      border-color: transparent;\n",
              "      border-right-color: var(--fill-color);\n",
              "      border-bottom-color: var(--fill-color);\n",
              "    }\n",
              "    90% {\n",
              "      border-color: transparent;\n",
              "      border-bottom-color: var(--fill-color);\n",
              "    }\n",
              "  }\n",
              "</style>\n",
              "\n",
              "  <script>\n",
              "    async function quickchart(key) {\n",
              "      const quickchartButtonEl =\n",
              "        document.querySelector('#' + key + ' button');\n",
              "      quickchartButtonEl.disabled = true;  // To prevent multiple clicks.\n",
              "      quickchartButtonEl.classList.add('colab-df-spinner');\n",
              "      try {\n",
              "        const charts = await google.colab.kernel.invokeFunction(\n",
              "            'suggestCharts', [key], {});\n",
              "      } catch (error) {\n",
              "        console.error('Error during call to suggestCharts:', error);\n",
              "      }\n",
              "      quickchartButtonEl.classList.remove('colab-df-spinner');\n",
              "      quickchartButtonEl.classList.add('colab-df-quickchart-complete');\n",
              "    }\n",
              "    (() => {\n",
              "      let quickchartButtonEl =\n",
              "        document.querySelector('#df-3669ff52-c475-4d51-acdc-9a0eba657baf button');\n",
              "      quickchartButtonEl.style.display =\n",
              "        google.colab.kernel.accessAllowed ? 'block' : 'none';\n",
              "    })();\n",
              "  </script>\n",
              "</div>\n",
              "    </div>\n",
              "  </div>\n"
            ],
            "application/vnd.google.colaboratory.intrinsic+json": {
              "type": "dataframe",
              "summary": "{\n  \"name\": \"price_list[['\\u0432\\u0438\\u0434 \\u043f\\u0440\\u043e\\u0434\\u0443\\u043a\\u0446\\u0438\\u0438',\\t'\\u0446\\u0435\\u043d\\u0430 \\u0437\\u0430 1 \\u043a\\u0433, \\u0440\\u0443\\u0431\\u043b\\u0438 \\u0420\\u0424']]\",\n  \"rows\": 5,\n  \"fields\": [\n    {\n      \"column\": \"\\u0432\\u0438\\u0434 \\u043f\\u0440\\u043e\\u0434\\u0443\\u043a\\u0446\\u0438\\u0438\",\n      \"properties\": {\n        \"dtype\": \"string\",\n        \"num_unique_values\": 5,\n        \"samples\": [\n          \"\\u041c\\u044f\\u0441\\u043d\\u0430\\u044f \\u043e\\u0431\\u0440\\u0435\\u0437\\u044c \\u0433\\u0440\\u0443\\u0434\\u043a\\u0430 \\u0438\\u043d\\u0434\\u0435\\u0439\\u043a\\u0430\",\n          \"\\u0424\\u0438\\u043b\\u0435 \\u0433\\u043e\\u043b\\u0435\\u043d\\u0438 \\u0438\\u043d\\u0434\\u0435\\u0439\\u043a\\u0438 \\u0431\\u0435\\u0437 \\u043a\\u043e\\u0441\\u0442\\u0435\\u0439\",\n          \"\\u041c\\u044f\\u0441\\u043d\\u0430\\u044f \\u043e\\u0431\\u0440\\u0435\\u0437\\u044c \\u0431\\u0435\\u0434\\u0440\\u043e \\u0438\\u043d\\u0434\\u0435\\u0439\\u043a\\u0430\"\n        ],\n        \"semantic_type\": \"\",\n        \"description\": \"\"\n      }\n    },\n    {\n      \"column\": \"\\u0446\\u0435\\u043d\\u0430 \\u0437\\u0430 1 \\u043a\\u0433, \\u0440\\u0443\\u0431\\u043b\\u0438 \\u0420\\u0424\",\n      \"properties\": {\n        \"dtype\": \"string\",\n        \"num_unique_values\": 3,\n        \"samples\": [\n          \"295\",\n          \"350\",\n          \"400\"\n        ],\n        \"semantic_type\": \"\",\n        \"description\": \"\"\n      }\n    }\n  ]\n}"
            }
          },
          "metadata": {},
          "execution_count": 6
        }
      ]
    },
    {
      "cell_type": "code",
      "source": [
        "def weather_forecast(location):\n",
        "  \"\"\"\n",
        "  Получение погоду в Москве\n",
        "  \"\"\"\n",
        "  return \"в Москве +13\""
      ],
      "metadata": {
        "id": "U3iCQbLAVVpm"
      },
      "execution_count": 7,
      "outputs": []
    },
    {
      "cell_type": "code",
      "source": [
        "def get_prices(products):\n",
        "  \"\"\"\n",
        "  Получение цен на выбранные продукты\n",
        "  \"\"\"\n",
        "  if isinstance(products, str):\n",
        "    products = [products]\n",
        "  return json.dumps(price_list[price_list['вид продукции'].isin(products)][['вид продукции', 'цена за 1 кг, рубли РФ']].to_dict(orient='records'), ensure_ascii=False)"
      ],
      "metadata": {
        "id": "acdyC8vvVhsH"
      },
      "execution_count": 8,
      "outputs": []
    },
    {
      "cell_type": "code",
      "source": [
        "def get_full_pricelist(products):\n",
        "    \"\"\"\n",
        "    Получение информации по всей продукции\n",
        "    \"\"\"\n",
        "    return json.dumps(price_list[['вид продукции', 'цена за 1 кг, рубли РФ']].to_dict(orient='records'), ensure_ascii=False)"
      ],
      "metadata": {
        "id": "HFKcGXb3yINO"
      },
      "execution_count": 9,
      "outputs": []
    },
    {
      "cell_type": "code",
      "source": [
        "functions = [\n",
        "    {\n",
        "        \"name\": \"weather_forecast\",\n",
        "        \"description\": \"Возвращает температуру в Москве\",\n",
        "        \"parameters\": {\n",
        "            \"type\": \"object\",\n",
        "            \"properties\": {\n",
        "                \"location\": {\n",
        "                    \"type\": \"string\",\n",
        "                    \"description\": \"Местоположение, например, название города\"\n",
        "                    }\n",
        "            },\n",
        "            \"required\": [\"location\"]\n",
        "            },\n",
        "        \"return_parameters\": {\n",
        "            \"type\": \"object\",\n",
        "            \"properties\": {\n",
        "                \"location\": {\n",
        "                    \"type\": \"string\",\n",
        "                    \"description\": \"Местоположение, например, название города\"\n",
        "                    },\n",
        "                \"temperature\": {\n",
        "                    \"type\": \"integer\",\n",
        "                    \"description\": \"Температура для заданного местоположения\"\n",
        "                    },\n",
        "                \"forecast\": {\n",
        "                    \"type\": \"array\",\n",
        "                    \"items\": {\n",
        "                        \"type\": \"string\"\n",
        "                        },\n",
        "                    \"description\": \"Описание погодных условий\"\n",
        "                    },\n",
        "                \"error\": {\n",
        "                    \"type\": \"string\",\n",
        "                    \"description\": \"Возвращается при возникновении ошибки. Содержит описание ошибки\"\n",
        "                    }\n",
        "                }\n",
        "            }\n",
        "        },\n",
        "        {\n",
        "            \"name\": \"get_full_pricelist\",\n",
        "            \"description\": \"Возвращает цены на всю имеющуюуся продукцию\",\n",
        "            \"parameters\": {\n",
        "                \"type\": \"object\",\n",
        "                \"properties\": {\n",
        "                    \"products\": {\n",
        "                        \"type\": \"string\",\n",
        "                        \"description\": f\"список наиболее подходящих продуктов из списка {price_list['вид продукции'].to_list()}\"\n",
        "                        }\n",
        "                    },\n",
        "                \"required\": [\"products\"]\n",
        "                },\n",
        "            \"return_parameters\": {\n",
        "                \"type\": \"object\",\n",
        "                \"properties\": {\n",
        "                    \"product\": {\n",
        "                        \"type\": \"string\",\n",
        "                        \"description\": \"Наименование продукции\"\n",
        "                        },\n",
        "                    \"price\": {\n",
        "                        \"type\": \"integer\",\n",
        "                        \"description\": \"Цена продукции в рублях РФ\"\n",
        "                        },\n",
        "                    \"error\": {\n",
        "                        \"type\": \"string\",\n",
        "                        \"description\": \"Возвращается при возникновении ошибки. Содержит описание ошибки\"\n",
        "                        }\n",
        "                    }\n",
        "                }\n",
        "            },\n",
        "             {\n",
        "                 \"name\": \"get_prices\",\n",
        "                 \"description\": \"Возвращает цену на запрашиваемый продукт\",\n",
        "                 \"parameters\": {\n",
        "                     \"type\": \"object\",\n",
        "                     \"properties\": {\n",
        "                         \"products\": {\n",
        "                             \"type\": \"string\",\n",
        "                             \"description\": f\"список наиболее подходящих продуктов из списка {price_list['вид продукции'].to_list()}\"\n",
        "                             }\n",
        "                         },\n",
        "                     \"required\": [\n",
        "                         \"products\"\n",
        "                         ]\n",
        "                     },\n",
        "                 \"few_shot_examples\": [\n",
        "                     {\n",
        "                         \"request\": \"сколько стоит лопатка?\",\n",
        "                         \"params\": {\n",
        "                             \"products\": [\"Свиная лопатка\"]\n",
        "                             }\n",
        "                         }\n",
        "                     ],\n",
        "                 \"return_parameters\": {\n",
        "                     \"type\": \"object\",\n",
        "                     \"properties\": {\n",
        "                         \"products\": {\n",
        "                             \"type\": \"string\",\n",
        "                             \"description\": \"Наименование продукции\"\n",
        "                             },\n",
        "                         \"price\": {\n",
        "                             \"type\": \"integer\",\n",
        "                             \"description\": \"Цена для данного вида продукции\"\n",
        "                             },\n",
        "                         \"error\": {\n",
        "                             \"type\": \"string\",\n",
        "                             \"description\": \"Возвращается при возникновении ошибки. Содержит описание ошибки\"\n",
        "                             }\n",
        "                         }\n",
        "                     }\n",
        "                 }\n",
        "    ]"
      ],
      "metadata": {
        "id": "IRG9MbliOsnM"
      },
      "execution_count": 10,
      "outputs": []
    },
    {
      "cell_type": "code",
      "source": [
        "import requests\n",
        "import json\n",
        "\n",
        "def get_chat_completion(auth_token, user_message, conversation_history=None):\n",
        "    \"\"\"\n",
        "    Отправляет POST-запрос к API чата для получения ответа от модели GigaChat в рамках диалога.\n",
        "\n",
        "    Параметры:\n",
        "    - auth_token (str): Токен для авторизации в API.\n",
        "    - user_message (str): Сообщение от пользователя, для которого нужно получить ответ.\n",
        "    - conversation_history (list): История диалога в виде списка сообщений (опционально).\n",
        "\n",
        "    Возвращает:\n",
        "    - response (requests.Response): Ответ от API.\n",
        "    - conversation_history (list): Обновленная история диалога.\n",
        "    \"\"\"\n",
        "    # URL API, к которому мы обращаемся\n",
        "    url = \"https://gigachat.devices.sberbank.ru/api/v1/chat/completions\"\n",
        "\n",
        "    # Если история диалога не предоставлена, добавляем в неё системный промт\n",
        "    if conversation_history is None or conversation_history == []:\n",
        "        conversation_history = [\n",
        "            {\n",
        "                \"role\": \"system\",\n",
        "                \"content\": \"ты менеджер по продажам, твоя задача сообщать цены из прайс-листа и погоду\"\n",
        "                }\n",
        "            ]\n",
        "\n",
        "    # Добавляем сообщение пользователя в историю диалога\n",
        "    conversation_history.append({\n",
        "        \"role\": \"user\",\n",
        "        \"content\": user_message\n",
        "    })\n",
        "    # json схемы доступных функций\n",
        "    giga_functions = [\n",
        "    {\n",
        "        \"name\": \"weather_forecast\",\n",
        "        \"description\": \"Возвращает температуру в Москве\",\n",
        "        \"parameters\": {\n",
        "            \"type\": \"object\",\n",
        "            \"properties\": {\n",
        "                \"location\": {\n",
        "                    \"type\": \"string\",\n",
        "                    \"description\": \"Местоположение, например, название города\"\n",
        "                    }\n",
        "            },\n",
        "            \"required\": [\"location\"]\n",
        "            },\n",
        "        \"return_parameters\": {\n",
        "            \"type\": \"object\",\n",
        "            \"properties\": {\n",
        "                \"location\": {\n",
        "                    \"type\": \"string\",\n",
        "                    \"description\": \"Местоположение, например, название города\"\n",
        "                    },\n",
        "                \"temperature\": {\n",
        "                    \"type\": \"integer\",\n",
        "                    \"description\": \"Температура для заданного местоположения\"\n",
        "                    },\n",
        "                \"forecast\": {\n",
        "                    \"type\": \"array\",\n",
        "                    \"items\": {\n",
        "                        \"type\": \"string\"\n",
        "                        },\n",
        "                    \"description\": \"Описание погодных условий\"\n",
        "                    },\n",
        "                \"error\": {\n",
        "                    \"type\": \"string\",\n",
        "                    \"description\": \"Возвращается при возникновении ошибки. Содержит описание ошибки\"\n",
        "                    }\n",
        "                }\n",
        "            }\n",
        "        },\n",
        "        {\n",
        "            \"name\": \"get_full_pricelist\",\n",
        "            \"description\": \"Возвращает цены на всю имеющуюуся продукцию\",\n",
        "            \"parameters\": {\n",
        "                \"type\": \"object\",\n",
        "                \"properties\": {\n",
        "                    \"products\": {\n",
        "                        \"type\": \"string\",\n",
        "                        \"description\": f\"список наиболее подходящих продуктов из списка {price_list['вид продукции'].to_list()}\"\n",
        "                        }\n",
        "                    },\n",
        "                \"required\": [\"products\"]\n",
        "                },\n",
        "            \"return_parameters\": {\n",
        "                \"type\": \"object\",\n",
        "                \"properties\": {\n",
        "                    \"product\": {\n",
        "                        \"type\": \"string\",\n",
        "                        \"description\": \"Наименование продукции\"\n",
        "                        },\n",
        "                    \"price\": {\n",
        "                        \"type\": \"integer\",\n",
        "                        \"description\": \"Цена продукции в рублях РФ\"\n",
        "                        },\n",
        "                    \"error\": {\n",
        "                        \"type\": \"string\",\n",
        "                        \"description\": \"Возвращается при возникновении ошибки. Содержит описание ошибки\"\n",
        "                        }\n",
        "                    }\n",
        "                }\n",
        "            },\n",
        "             {\n",
        "                 \"name\": \"get_prices\",\n",
        "                 \"description\": \"Возвращает цену на запрашиваемый продукт\",\n",
        "                 \"parameters\": {\n",
        "                     \"type\": \"object\",\n",
        "                     \"properties\": {\n",
        "                         \"products\": {\n",
        "                             \"type\": \"string\",\n",
        "                             \"description\": f\"список наиболее подходящих продуктов из списка {price_list['вид продукции'].to_list()}\"\n",
        "                             }\n",
        "                         },\n",
        "                     \"required\": [\n",
        "                         \"products\"\n",
        "                         ]\n",
        "                     },\n",
        "                 \"few_shot_examples\": [\n",
        "                     {\n",
        "                         \"request\": \"сколько стоит лопатка?\",\n",
        "                         \"params\": {\n",
        "                             \"products\": [\"Свиная лопатка\"]\n",
        "                             }\n",
        "                         }\n",
        "                     ],\n",
        "                 \"return_parameters\": {\n",
        "                     \"type\": \"object\",\n",
        "                     \"properties\": {\n",
        "                         \"products\": {\n",
        "                             \"type\": \"string\",\n",
        "                             \"description\": \"Наименование продукции\"\n",
        "                             },\n",
        "                         \"price\": {\n",
        "                             \"type\": \"integer\",\n",
        "                             \"description\": \"Цена для данного вида продукции\"\n",
        "                             },\n",
        "                         \"error\": {\n",
        "                             \"type\": \"string\",\n",
        "                             \"description\": \"Возвращается при возникновении ошибки. Содержит описание ошибки\"\n",
        "                             }\n",
        "                         }\n",
        "                     }\n",
        "                 }\n",
        "    ]\n",
        "    # Подготовка данных запроса в формате JSON\n",
        "    payload = json.dumps({\n",
        "        \"model\": \"GigaChat-Pro-preview\",\n",
        "        \"messages\": conversation_history,\n",
        "        \"function_call\": \"auto\",\n",
        "        \"functions\": giga_functions,\n",
        "        \"temperature\": 0.5,\n",
        "        \"top_p\": 0.1,\n",
        "        \"n\": 1,\n",
        "        \"stream\": False,\n",
        "        \"max_tokens\": 32000,\n",
        "        \"repetition_penalty\": 1,\n",
        "        \"update_interval\": 0\n",
        "    })\n",
        "    # Заголовки запроса\n",
        "    headers = {\n",
        "        'Content-Type': 'application/json',\n",
        "        'Accept': 'application/json',\n",
        "        'Authorization': f'Bearer {auth_token}'\n",
        "    }\n",
        "    # словарь с функциями для обработки запроса\n",
        "    available_functions = {\n",
        "        \"weather_forecast\": weather_forecast,\n",
        "        \"get_full_pricelist\": get_full_pricelist,\n",
        "        \"get_prices\": get_prices\n",
        "        }\n",
        "    # Выполнение POST-запроса и возвращение ответа\n",
        "    try:\n",
        "        response = requests.post(url, headers=headers, data=payload, verify=False)\n",
        "        response_data = response.json()\n",
        "        # проверяем ответ модели на наличие обращений к функциям\n",
        "        try:\n",
        "          # json с информацией о необходимой функции\n",
        "          func_calls = response_data['choices'][0]['message']['function_call']\n",
        "          # имя вызываемой функции\n",
        "          func_name = func_calls['name']\n",
        "          # аргументы вызываемой функции\n",
        "          func_args = func_calls['arguments']\n",
        "          # достаём нужную функцию из словаря\n",
        "          function_to_call = available_functions[func_name]\n",
        "\n",
        "          # добавляем в историю сообщений ответ модели с вызовом функции, БЕЗ ЭТОГО МОДЕЛЬ НЕ ОТВЕТИТ\n",
        "          conversation_history.append(response_data['choices'][0]['message'])\n",
        "          # добавляем в историю сообщений результаты функции\n",
        "          conversation_history.append(\n",
        "              {\n",
        "                  \"role\": \"function\",\n",
        "                  \"content\": function_to_call(**func_args),\n",
        "                  \"name\": func_name\n",
        "                  }\n",
        "              )\n",
        "          # обновляем данные\n",
        "          payload = json.dumps({\n",
        "              \"model\": \"GigaChat-Pro-preview\",\n",
        "              \"messages\": conversation_history,\n",
        "              \"function_call\": \"auto\",\n",
        "              \"functions\": giga_functions,\n",
        "              \"temperature\": 0.5,\n",
        "              \"top_p\": 0.1,\n",
        "              \"n\": 1,\n",
        "              \"stream\": False,\n",
        "              \"max_tokens\": 32000,\n",
        "              \"repetition_penalty\": 0.5,\n",
        "              \"update_interval\": 0\n",
        "              })\n",
        "          # повторяем зарос\n",
        "          response = requests.post(url, headers=headers, data=payload, verify=False)\n",
        "          response_data = response.json()\n",
        "          # for func in func_calls:\n",
        "        except:\n",
        "          pass\n",
        "\n",
        "        # Добавляем ответ модели в историю диалога\n",
        "        conversation_history.append({\n",
        "            \"role\": \"assistant\",\n",
        "            \"content\": response_data['choices'][0]['message']['content']\n",
        "        })\n",
        "\n",
        "        return response, conversation_history\n",
        "    except requests.RequestException as e:\n",
        "        # Обработка исключения в случае ошибки запроса\n",
        "        print(f\"Произошла ошибка: {str(e)}\")\n",
        "        return None, conversation_history"
      ],
      "metadata": {
        "id": "wizk0o-CEf9m"
      },
      "execution_count": 11,
      "outputs": []
    },
    {
      "cell_type": "code",
      "source": [
        "conversation_history = []\n",
        "\n",
        "response, conversation_history = get_chat_completion(giga_token, \"какая погода в Москве?\", conversation_history)\n"
      ],
      "metadata": {
        "id": "sZQpjXYBs6E9",
        "colab": {
          "base_uri": "https://localhost:8080/"
        },
        "outputId": "e9f3a8cb-c82e-4a86-fd6e-925e149ca2c4"
      },
      "execution_count": 12,
      "outputs": [
        {
          "output_type": "stream",
          "name": "stderr",
          "text": [
            "/usr/local/lib/python3.10/dist-packages/urllib3/connectionpool.py:1100: InsecureRequestWarning: Unverified HTTPS request is being made to host 'gigachat.devices.sberbank.ru'. Adding certificate verification is strongly advised. See: https://urllib3.readthedocs.io/en/latest/advanced-usage.html#tls-warnings\n",
            "  warnings.warn(\n",
            "/usr/local/lib/python3.10/dist-packages/urllib3/connectionpool.py:1100: InsecureRequestWarning: Unverified HTTPS request is being made to host 'gigachat.devices.sberbank.ru'. Adding certificate verification is strongly advised. See: https://urllib3.readthedocs.io/en/latest/advanced-usage.html#tls-warnings\n",
            "  warnings.warn(\n"
          ]
        }
      ]
    },
    {
      "cell_type": "code",
      "source": [
        "conversation_history"
      ],
      "metadata": {
        "id": "MHUEMF3O-KQT",
        "colab": {
          "base_uri": "https://localhost:8080/"
        },
        "outputId": "297fcf15-118c-40d0-9ed2-c5f55f278a79"
      },
      "execution_count": 13,
      "outputs": [
        {
          "output_type": "execute_result",
          "data": {
            "text/plain": [
              "[{'role': 'system',\n",
              "  'content': 'ты менеджер по продажам, твоя задача сообщать цены из прайс-листа и погоду'},\n",
              " {'role': 'user', 'content': 'какая погода в Москве?'},\n",
              " {'content': '',\n",
              "  'role': 'assistant',\n",
              "  'function_call': {'name': 'weather_forecast',\n",
              "   'arguments': {'location': 'Москва'}}},\n",
              " {'role': 'function', 'content': 'в Москве +13', 'name': 'weather_forecast'},\n",
              " {'role': 'assistant', 'content': 'В Москве сейчас +13°С.'}]"
            ]
          },
          "metadata": {},
          "execution_count": 13
        }
      ]
    },
    {
      "cell_type": "code",
      "source": [
        "conversation_history = []\n",
        "\n",
        "response, conversation_history = get_chat_completion(giga_token, \"дай цены по всей продукции\", conversation_history)\n"
      ],
      "metadata": {
        "id": "2kpM0SwKfzjL",
        "outputId": "608f2364-4183-4da4-d94e-b48ecc68fbd1",
        "colab": {
          "base_uri": "https://localhost:8080/"
        }
      },
      "execution_count": 14,
      "outputs": [
        {
          "output_type": "stream",
          "name": "stderr",
          "text": [
            "/usr/local/lib/python3.10/dist-packages/urllib3/connectionpool.py:1100: InsecureRequestWarning: Unverified HTTPS request is being made to host 'gigachat.devices.sberbank.ru'. Adding certificate verification is strongly advised. See: https://urllib3.readthedocs.io/en/latest/advanced-usage.html#tls-warnings\n",
            "  warnings.warn(\n",
            "/usr/local/lib/python3.10/dist-packages/urllib3/connectionpool.py:1100: InsecureRequestWarning: Unverified HTTPS request is being made to host 'gigachat.devices.sberbank.ru'. Adding certificate verification is strongly advised. See: https://urllib3.readthedocs.io/en/latest/advanced-usage.html#tls-warnings\n",
            "  warnings.warn(\n"
          ]
        }
      ]
    },
    {
      "cell_type": "code",
      "source": [
        "conversation_history"
      ],
      "metadata": {
        "id": "7WiHVcArgZAW",
        "outputId": "a6398425-5385-4cd7-8598-1c9d6ce1ece3",
        "colab": {
          "base_uri": "https://localhost:8080/"
        }
      },
      "execution_count": 15,
      "outputs": [
        {
          "output_type": "execute_result",
          "data": {
            "text/plain": [
              "[{'role': 'system',\n",
              "  'content': 'ты менеджер по продажам, твоя задача сообщать цены из прайс-листа и погоду'},\n",
              " {'role': 'user', 'content': 'дай цены по всей продукции'},\n",
              " {'content': '',\n",
              "  'role': 'assistant',\n",
              "  'function_call': {'name': 'get_full_pricelist',\n",
              "   'arguments': {'products': 'всю'}}},\n",
              " {'role': 'function',\n",
              "  'content': '[{\"вид продукции\": \"Тушка индейки самец\", \"цена за 1 кг, рубли РФ\": \"295\"}, {\"вид продукции\": \"Мясная обрезь грудка индейка\", \"цена за 1 кг, рубли РФ\": \"350\"}, {\"вид продукции\": \"Мясная обрезь бедро индейка\", \"цена за 1 кг, рубли РФ\": \"350\"}, {\"вид продукции\": \"Блоки из мяса индейки\", \"цена за 1 кг, рубли РФ\": \"400\"}, {\"вид продукции\": \"Филе голени индейки без костей\", \"цена за 1 кг, рубли РФ\": \"350\"}, {\"вид продукции\": \"Медальон (Деликатесный) индейка\", \"цена за 1 кг, рубли РФ\": \"350\"}, {\"вид продукции\": \"Голень индейки самец\", \"цена за 1 кг, рубли РФ\": \"190\"}, {\"вид продукции\": \"Голень индейки самка\", \"цена за 1 кг, рубли РФ\": \"160\"}, {\"вид продукции\": \"Бедро индейки без кожи\", \"цена за 1 кг, рубли РФ\": NaN}, {\"вид продукции\": \"Стейки из голени индейки (крупный)\", \"цена за 1 кг, рубли РФ\": NaN}, {\"вид продукции\": \"Крыло локтевая часть индейка\", \"цена за 1 кг, рубли РФ\": \"165\"}, {\"вид продукции\": \"Крыло плечевая часть индейка\", \"цена за 1 кг, рубли РФ\": \"199\"}, {\"вид продукции\": \"Головы индейки \", \"цена за 1 кг, рубли РФ\": \"45/ шт\"}, {\"вид продукции\": \"Рагу индейки  (монолит)\", \"цена за 1 кг, рубли РФ\": \"220\"}, {\"вид продукции\": \"Рагу индейки (лоток)\", \"цена за 1 кг, рубли РФ\": \"225\"}, {\"вид продукции\": \"Голень индейки бескостная\", \"цена за 1 кг, рубли РФ\": \"295\"}, {\"вид продукции\": \"Ноги индейки \", \"цена за 1 кг, рубли РФ\": \"45\"}, {\"вид продукции\": \"Свиная лопатка\", \"цена за 1 кг, рубли РФ\": \"265\"}, {\"вид продукции\": \"Свиной окорок\", \"цена за 1 кг, рубли РФ\": \"285\"}, {\"вид продукции\": \"свиной карбонат\", \"цена за 1 кг, рубли РФ\": \"310\"}, {\"вид продукции\": \"Свиной шпик\", \"цена за 1 кг, рубли РФ\": \"170\"}, {\"вид продукции\": \"Тримминг свинины\", \"цена за 1 кг, рубли РФ\": \"175\"}, {\"вид продукции\": \"Свиная печень\", \"цена за 1 кг, рубли РФ\": \"95\"}, {\"вид продукции\": \"Вырезка из свинины\", \"цена за 1 кг, рубли РФ\": \"365\"}, {\"вид продукции\": \"Свиные языки\", \"цена за 1 кг, рубли РФ\": \"400\"}, {\"вид продукции\": \"Свиная шея\", \"цена за 1 кг, рубли РФ\": \"400\"}]',\n",
              "  'name': 'get_full_pricelist'},\n",
              " {'role': 'assistant',\n",
              "  'content': 'Цены на всю продукцию следующие: Тушка индейки самец - 295 рублей за 1 кг, Мясная обрезь грудка индейка - 350 рублей за 1 кг, Мясная обрезь бедро индейка - 350 рублей за 1 кг, Блоки из мяса индейки - 400 рублей за 1 кг, Филе голени индейки без костей - 350 рублей за 1 кг, Медальон (Деликатесный) индейка - 350 рублей за 1 кг, Голень индейки самец - 190 рублей за 1 кг, Голень индейки самка - 160 рублей за 1 кг, Бедро индейки без кожи - нет данных, Стейки из голени индейки (крупный) - нет данных, Крыло локтевая часть индейка - 165 рублей за 1 кг, Крыло плечевая часть индейка - 199 рублей за 1 кг, Головы индейки - 45 рублей за штуку, Рагу индейки  (монолит) - 220 рублей за 1 кг, Рагу индейки (лоток) - 225 рублей за 1 кг, Голень индейки бескостная - 295 рублей за 1 кг, Ноги индейки - 45 рублей за 1 кг, Свиная лопатка - 265 рублей за 1 кг, Свиной окорок - 285 рублей за 1 кг, свиной карбонат - 310 рублей за 1 кг, Свиной шпик - 170 рублей за 1 кг, Тримминг свинины - 175 рублей за 1 кг, Свиная печень - 95 рублей за 1 кг, Вырезка из свинины - 365 рублей за 1 кг, Свиные языки - 400 рублей за 1 кг, Свиная шея - 400 рублей за 1 кг.'}]"
            ]
          },
          "metadata": {},
          "execution_count": 15
        }
      ]
    },
    {
      "cell_type": "code",
      "source": [
        "conversation_history = []\n",
        "\n",
        "response, conversation_history = get_chat_completion(giga_token, \"сколько стоит лопатка и окорок?\", conversation_history)\n"
      ],
      "metadata": {
        "id": "l3PvXJS-g4kK",
        "outputId": "6234ee3f-7d78-484b-c85d-db6dec75fd20",
        "colab": {
          "base_uri": "https://localhost:8080/"
        }
      },
      "execution_count": null,
      "outputs": [
        {
          "output_type": "stream",
          "name": "stderr",
          "text": [
            "/usr/local/lib/python3.10/dist-packages/urllib3/connectionpool.py:1100: InsecureRequestWarning: Unverified HTTPS request is being made to host 'gigachat.devices.sberbank.ru'. Adding certificate verification is strongly advised. See: https://urllib3.readthedocs.io/en/latest/advanced-usage.html#tls-warnings\n",
            "  warnings.warn(\n",
            "/usr/local/lib/python3.10/dist-packages/urllib3/connectionpool.py:1100: InsecureRequestWarning: Unverified HTTPS request is being made to host 'gigachat.devices.sberbank.ru'. Adding certificate verification is strongly advised. See: https://urllib3.readthedocs.io/en/latest/advanced-usage.html#tls-warnings\n",
            "  warnings.warn(\n"
          ]
        }
      ]
    },
    {
      "cell_type": "code",
      "source": [
        "conversation_history"
      ],
      "metadata": {
        "id": "UVvzSR8rhnWr"
      },
      "execution_count": null,
      "outputs": []
    },
    {
      "cell_type": "code",
      "source": [
        "conversation_history = []\n",
        "\n",
        "response, conversation_history = get_chat_completion(giga_token, \"сколько стоит рагу и какая погода в москве?\", conversation_history)\n"
      ],
      "metadata": {
        "id": "bQtLYoMchlPN",
        "colab": {
          "base_uri": "https://localhost:8080/"
        },
        "outputId": "c9ab57fe-d30b-4130-c0fb-b7bcba963fef"
      },
      "execution_count": 17,
      "outputs": [
        {
          "output_type": "stream",
          "name": "stderr",
          "text": [
            "/usr/local/lib/python3.10/dist-packages/urllib3/connectionpool.py:1100: InsecureRequestWarning: Unverified HTTPS request is being made to host 'gigachat.devices.sberbank.ru'. Adding certificate verification is strongly advised. See: https://urllib3.readthedocs.io/en/latest/advanced-usage.html#tls-warnings\n",
            "  warnings.warn(\n",
            "/usr/local/lib/python3.10/dist-packages/urllib3/connectionpool.py:1100: InsecureRequestWarning: Unverified HTTPS request is being made to host 'gigachat.devices.sberbank.ru'. Adding certificate verification is strongly advised. See: https://urllib3.readthedocs.io/en/latest/advanced-usage.html#tls-warnings\n",
            "  warnings.warn(\n"
          ]
        }
      ]
    },
    {
      "cell_type": "code",
      "source": [
        "conversation_history"
      ],
      "metadata": {
        "colab": {
          "base_uri": "https://localhost:8080/"
        },
        "id": "wt_dg1tDnDlE",
        "outputId": "5b440a13-3ae9-4c66-cca5-111996f4e0c8"
      },
      "execution_count": 18,
      "outputs": [
        {
          "output_type": "execute_result",
          "data": {
            "text/plain": [
              "[{'role': 'system',\n",
              "  'content': 'ты менеджер по продажам, твоя задача сообщать цены из прайс-листа и погоду'},\n",
              " {'role': 'user', 'content': 'сколько стоит рагу и какая погода в москве?'},\n",
              " {'content': '',\n",
              "  'role': 'assistant',\n",
              "  'function_call': {'name': 'get_prices',\n",
              "   'arguments': {'products': 'Рагу индейки  (монолит), Рагу индейки (лоток)'}}},\n",
              " {'role': 'function', 'content': '[]', 'name': 'get_prices'},\n",
              " {'role': 'assistant',\n",
              "  'content': 'Извините, но я не могу предоставить вам информацию о цене рагу. Могу ли я помочь вам с чем-то ещё?'}]"
            ]
          },
          "metadata": {},
          "execution_count": 18
        }
      ]
    },
    {
      "cell_type": "code",
      "source": [],
      "metadata": {
        "id": "WrPRZ-Qa19LE"
      },
      "execution_count": null,
      "outputs": []
    }
  ]
}